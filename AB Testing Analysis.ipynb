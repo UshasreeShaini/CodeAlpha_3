{
 "cells": [
  {
   "cell_type": "markdown",
   "id": "e654e281-d5cc-46e6-b2ae-11cbd79c5cc5",
   "metadata": {},
   "source": [
    "**A/B Testing Analysis**"
   ]
  },
  {
   "cell_type": "markdown",
   "id": "cec3e16f-1633-4f67-a635-806ef674aa2b",
   "metadata": {},
   "source": [
    "**Step 1: Install Required Libraries**"
   ]
  },
  {
   "cell_type": "code",
   "execution_count": 3,
   "id": "c943164b-9d42-4921-948d-3914656dd28b",
   "metadata": {},
   "outputs": [
    {
     "name": "stdout",
     "output_type": "stream",
     "text": [
      "Requirement already satisfied: numpy in c:\\users\\ushasree\\anaconda3\\lib\\site-packages (1.26.4)\n",
      "Requirement already satisfied: pandas in c:\\users\\ushasree\\anaconda3\\lib\\site-packages (2.2.2)\n",
      "Requirement already satisfied: scipy in c:\\users\\ushasree\\anaconda3\\lib\\site-packages (1.13.1)\n",
      "Requirement already satisfied: statsmodels in c:\\users\\ushasree\\anaconda3\\lib\\site-packages (0.14.2)\n",
      "Requirement already satisfied: matplotlib in c:\\users\\ushasree\\anaconda3\\lib\\site-packages (3.8.4)\n",
      "Requirement already satisfied: seaborn in c:\\users\\ushasree\\anaconda3\\lib\\site-packages (0.13.2)\n",
      "Requirement already satisfied: python-dateutil>=2.8.2 in c:\\users\\ushasree\\anaconda3\\lib\\site-packages (from pandas) (2.9.0.post0)\n",
      "Requirement already satisfied: pytz>=2020.1 in c:\\users\\ushasree\\anaconda3\\lib\\site-packages (from pandas) (2024.1)\n",
      "Requirement already satisfied: tzdata>=2022.7 in c:\\users\\ushasree\\anaconda3\\lib\\site-packages (from pandas) (2023.3)\n",
      "Requirement already satisfied: patsy>=0.5.6 in c:\\users\\ushasree\\anaconda3\\lib\\site-packages (from statsmodels) (0.5.6)\n",
      "Requirement already satisfied: packaging>=21.3 in c:\\users\\ushasree\\anaconda3\\lib\\site-packages (from statsmodels) (23.2)\n",
      "Requirement already satisfied: contourpy>=1.0.1 in c:\\users\\ushasree\\anaconda3\\lib\\site-packages (from matplotlib) (1.2.0)\n",
      "Requirement already satisfied: cycler>=0.10 in c:\\users\\ushasree\\anaconda3\\lib\\site-packages (from matplotlib) (0.11.0)\n",
      "Requirement already satisfied: fonttools>=4.22.0 in c:\\users\\ushasree\\anaconda3\\lib\\site-packages (from matplotlib) (4.51.0)\n",
      "Requirement already satisfied: kiwisolver>=1.3.1 in c:\\users\\ushasree\\anaconda3\\lib\\site-packages (from matplotlib) (1.4.4)\n",
      "Requirement already satisfied: pillow>=8 in c:\\users\\ushasree\\anaconda3\\lib\\site-packages (from matplotlib) (10.3.0)\n",
      "Requirement already satisfied: pyparsing>=2.3.1 in c:\\users\\ushasree\\anaconda3\\lib\\site-packages (from matplotlib) (3.0.9)\n",
      "Requirement already satisfied: six in c:\\users\\ushasree\\anaconda3\\lib\\site-packages (from patsy>=0.5.6->statsmodels) (1.16.0)\n"
     ]
    }
   ],
   "source": [
    "!pip install numpy pandas scipy statsmodels matplotlib seaborn\n"
   ]
  },
  {
   "cell_type": "markdown",
   "id": "0dd13975-9258-4c93-a918-84ab8c6c874e",
   "metadata": {},
   "source": [
    "**Step 2: Import Libraries**"
   ]
  },
  {
   "cell_type": "code",
   "execution_count": 6,
   "id": "2761bb78-a02c-454e-8b8c-c45ae751cd02",
   "metadata": {},
   "outputs": [],
   "source": [
    "import numpy as np\n",
    "import pandas as pd\n",
    "import scipy.stats as stats\n",
    "import statsmodels.api as sm\n",
    "import matplotlib.pyplot as plt\n",
    "import seaborn as sns\n"
   ]
  },
  {
   "cell_type": "markdown",
   "id": "db8c9669-13b8-42a1-9b41-238155214f68",
   "metadata": {},
   "source": [
    "**Step 3: Load and Prepare the Data**"
   ]
  },
  {
   "cell_type": "code",
   "execution_count": 15,
   "id": "134b8e61-2025-4175-89d2-31ccbfad2a8b",
   "metadata": {},
   "outputs": [
    {
     "data": {
      "text/html": [
       "<div>\n",
       "<style scoped>\n",
       "    .dataframe tbody tr th:only-of-type {\n",
       "        vertical-align: middle;\n",
       "    }\n",
       "\n",
       "    .dataframe tbody tr th {\n",
       "        vertical-align: top;\n",
       "    }\n",
       "\n",
       "    .dataframe thead th {\n",
       "        text-align: right;\n",
       "    }\n",
       "</style>\n",
       "<table border=\"1\" class=\"dataframe\">\n",
       "  <thead>\n",
       "    <tr style=\"text-align: right;\">\n",
       "      <th></th>\n",
       "      <th>Group</th>\n",
       "      <th>Converted</th>\n",
       "    </tr>\n",
       "  </thead>\n",
       "  <tbody>\n",
       "    <tr>\n",
       "      <th>0</th>\n",
       "      <td>Control</td>\n",
       "      <td>0</td>\n",
       "    </tr>\n",
       "    <tr>\n",
       "      <th>1</th>\n",
       "      <td>Control</td>\n",
       "      <td>1</td>\n",
       "    </tr>\n",
       "    <tr>\n",
       "      <th>2</th>\n",
       "      <td>Control</td>\n",
       "      <td>0</td>\n",
       "    </tr>\n",
       "    <tr>\n",
       "      <th>3</th>\n",
       "      <td>Control</td>\n",
       "      <td>0</td>\n",
       "    </tr>\n",
       "    <tr>\n",
       "      <th>4</th>\n",
       "      <td>Control</td>\n",
       "      <td>0</td>\n",
       "    </tr>\n",
       "  </tbody>\n",
       "</table>\n",
       "</div>"
      ],
      "text/plain": [
       "     Group  Converted\n",
       "0  Control          0\n",
       "1  Control          1\n",
       "2  Control          0\n",
       "3  Control          0\n",
       "4  Control          0"
      ]
     },
     "execution_count": 15,
     "metadata": {},
     "output_type": "execute_result"
    }
   ],
   "source": [
    "# Generate a synthetic dataset\n",
    "np.random.seed(42)\n",
    "\n",
    "# Control group\n",
    "control_group = np.random.binomial(1, 0.1, 1000)  # 10% conversion rate\n",
    "control_df = pd.DataFrame({'Group': 'Control', 'Converted': control_group})\n",
    "\n",
    "# Treatment group\n",
    "treatment_group = np.random.binomial(1, 0.12, 1000)  # 12% conversion rate\n",
    "treatment_df = pd.DataFrame({'Group': 'Treatment', 'Converted': treatment_group})\n",
    "\n",
    "# Combine the datasets\n",
    "df = pd.concat([control_df, treatment_df]).reset_index(drop=True)\n",
    "df.head()\n",
    "\n"
   ]
  },
  {
   "cell_type": "markdown",
   "id": "2dc35a0d-bad5-4cfe-9c54-e9a0df0bbad4",
   "metadata": {},
   "source": [
    "**Step 4: Exploratory Data Analysis (EDA)**"
   ]
  },
  {
   "cell_type": "code",
   "execution_count": 17,
   "id": "9ebffffa-7c81-41dc-8e4c-5ef306ab6b4e",
   "metadata": {},
   "outputs": [
    {
     "name": "stdout",
     "output_type": "stream",
     "text": [
      "Group\n",
      "Control      0.100\n",
      "Treatment    0.112\n",
      "Name: Converted, dtype: float64\n"
     ]
    },
    {
     "data": {
      "image/png": "[encoded data removed]",
      "text/plain": [
       "<Figure size 800x600 with 1 Axes>"
      ]
     },
     "metadata": {},
     "output_type": "display_data"
    }
   ],
   "source": [
    "# Conversion rates\n",
    "conversion_rates = df.groupby('Group')['Converted'].mean()\n",
    "print(conversion_rates)\n",
    "\n",
    "# Plot conversion rates\n",
    "plt.figure(figsize=(8, 6))\n",
    "sns.barplot(x='Group', y='Converted', data=df, errorbar=None)\n",
    "plt.title('Conversion Rates by Group')\n",
    "plt.ylabel('Conversion Rate')\n",
    "plt.show()\n"
   ]
  },
  {
   "cell_type": "markdown",
   "id": "c01a6432-7305-42ca-b345-98ad32e67cf3",
   "metadata": {},
   "source": [
    "**Step 5: Hypothesis Testing**"
   ]
  },
  {
   "cell_type": "code",
   "execution_count": 20,
   "id": "5bbb132d-d3a4-4683-869a-eb65efd21eb9",
   "metadata": {},
   "outputs": [
    {
     "name": "stdout",
     "output_type": "stream",
     "text": [
      "T-statistic: -0.8713844553435877, P-value: 0.38364896061020115\n"
     ]
    }
   ],
   "source": [
    "# Calculate the conversion rates\n",
    "control_converted = df[df['Group'] == 'Control']['Converted']\n",
    "treatment_converted = df[df['Group'] == 'Treatment']['Converted']\n",
    "\n",
    "# Perform a two-sample t-test\n",
    "t_stat, p_value = stats.ttest_ind(control_converted, treatment_converted)\n",
    "print(f'T-statistic: {t_stat}, P-value: {p_value}')\n"
   ]
  },
  {
   "cell_type": "code",
   "execution_count": 22,
   "id": "f8546701-8ed5-47b2-a12f-1307284571e9",
   "metadata": {},
   "outputs": [
    {
     "name": "stdout",
     "output_type": "stream",
     "text": [
      "Z-statistic: -0.8716548604640172, P-value: 0.3833966925145822\n"
     ]
    }
   ],
   "source": [
    "# Number of conversions and trials\n",
    "n_control = control_converted.size\n",
    "n_treatment = treatment_converted.size\n",
    "convert_control = control_converted.sum()\n",
    "convert_treatment = treatment_converted.sum()\n",
    "\n",
    "# Perform a z-test for proportions\n",
    "z_stat, p_value = sm.stats.proportions_ztest([convert_control, convert_treatment], [n_control, n_treatment])\n",
    "print(f'Z-statistic: {z_stat}, P-value: {p_value}')\n"
   ]
  },
  {
   "cell_type": "markdown",
   "id": "1a2beaed-3590-492d-85ed-7ebd088ba93c",
   "metadata": {},
   "source": [
    "**Step 6: Analyze the Results**"
   ]
  },
  {
   "cell_type": "code",
   "execution_count": 25,
   "id": "30e13ed7-f8e1-4fae-963b-a8019cc4f835",
   "metadata": {},
   "outputs": [
    {
     "name": "stdout",
     "output_type": "stream",
     "text": [
      "Fail to reject the null hypothesis: There is no significant difference between the control and treatment groups.\n"
     ]
    }
   ],
   "source": [
    "# Analyze the p-value\n",
    "alpha = 0.05\n",
    "if p_value < alpha:\n",
    "    print(\"Reject the null hypothesis: There is a significant difference between the control and treatment groups.\")\n",
    "else:\n",
    "    print(\"Fail to reject the null hypothesis: There is no significant difference between the control and treatment groups.\")\n"
   ]
  },
  {
   "cell_type": "markdown",
   "id": "578d03b3-aa0e-49f6-8669-b212b0f08fd3",
   "metadata": {},
   "source": [
    "**Step 7: Visualize the Results**"
   ]
  },
  {
   "cell_type": "code",
   "execution_count": 28,
   "id": "b6f10024-fb02-45f8-a7ff-0571edf60119",
   "metadata": {},
   "outputs": [
    {
     "data": {
      "image/png": "[encoded data removed]",
      "text/plain": [
       "<Figure size 1000x600 with 1 Axes>"
      ]
     },
     "metadata": {},
     "output_type": "display_data"
    }
   ],
   "source": [
    "# Plot the distribution of conversions\n",
    "plt.figure(figsize=(10, 6))\n",
    "sns.histplot(control_converted, kde=False, color='blue', label='Control', bins=2)\n",
    "sns.histplot(treatment_converted, kde=False, color='red', label='Treatment', bins=2)\n",
    "plt.legend()\n",
    "plt.title('Distribution of Conversions')\n",
    "plt.xlabel('Converted')\n",
    "plt.ylabel('Frequency')\n",
    "plt.show()\n"
   ]
  },
  {
   "cell_type": "code",
   "execution_count": null,
   "id": "13fc7f9c-aee7-4740-9c8b-0c3d5da77cb8",
   "metadata": {},
   "outputs": [],
   "source": [
    "\n"
   ]
  }
 ],
 "metadata": {
  "kernelspec": {
   "display_name": "Python 3 (ipykernel)",
   "language": "python",
   "name": "python3"
  },
  "language_info": {
   "codemirror_mode": {
    "name": "ipython",
    "version": 3
   },
   "file_extension": ".py",
   "mimetype": "text/x-python",
   "name": "python",
   "nbconvert_exporter": "python",
   "pygments_lexer": "ipython3",
   "version": "3.12.4"
  }
 },
 "nbformat": 4,
 "nbformat_minor": 5
}
